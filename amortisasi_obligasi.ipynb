{
  "nbformat": 4,
  "nbformat_minor": 0,
  "metadata": {
    "colab": {
      "name": "amortisasi_obligasi.ipynb",
      "provenance": [],
      "authorship_tag": "ABX9TyPJcFFVv2+e3EHuiwKqCQ8Q"
    },
    "kernelspec": {
      "name": "python3",
      "display_name": "Python 3"
    },
    "language_info": {
      "name": "python"
    }
  },
  "cells": [
    {
      "cell_type": "code",
      "execution_count": 11,
      "metadata": {
        "colab": {
          "base_uri": "https://localhost:8080/"
        },
        "id": "1ke4ts_rjXUq",
        "outputId": "11ad6f6b-c4ec-4085-b817-6ae2034353b2"
      },
      "outputs": [
        {
          "output_type": "stream",
          "name": "stdout",
          "text": [
            "Modal (F) = 100000000\n",
            "Masa Hidup Obligasi (N) = 20\n",
            "Frekuensi Pembayaran Kupon (m) = 4\n",
            "Tingkat Suku Bunga per Periode (j) = 0.4\n",
            "Tingkat Kupon Tiap Periode (r) = 0.3\n",
            "\n",
            "     Periode       Kupon  Bunga yang Dibayarkan  \\\n",
            "0         0         0.0           0.000000e+00   \n",
            "1         1  30000000.0           3.000000e+07   \n",
            "2         2  30000000.0           3.000000e+07   \n",
            "3         3  30000000.0           3.000000e+07   \n",
            "4         4  30000000.0           3.000000e+07   \n",
            "..      ...         ...                    ...   \n",
            "76       76  30000000.0           3.185934e+07   \n",
            "77       77  30000000.0           3.260308e+07   \n",
            "78       78  30000000.0           3.364431e+07   \n",
            "79       79  30000000.0           3.510204e+07   \n",
            "80       80  30000000.0           3.714286e+07   \n",
            "\n",
            "    Pokok Pinjaman yang Dibayarkan  Pokok Pinjaman  \n",
            "0                     0.000000e+00    7.500000e+07  \n",
            "1                    -2.040714e-05    7.500000e+07  \n",
            "2                    -2.856925e-05    7.500000e+07  \n",
            "3                    -3.999472e-05    7.500000e+07  \n",
            "4                    -5.599484e-05    7.500000e+07  \n",
            "..                             ...             ...  \n",
            "76                   -1.859344e+06    8.150771e+07  \n",
            "77                   -2.603082e+06    8.411079e+07  \n",
            "78                   -3.644315e+06    8.775510e+07  \n",
            "79                   -5.102041e+06    9.285714e+07  \n",
            "80                   -7.142857e+06    1.000000e+08  \n",
            "\n",
            "[81 rows x 5 columns] \n",
            "\n"
          ]
        }
      ],
      "source": [
        "import pandas as pd\n",
        "import matplotlib.pyplot as plt\n",
        "from sklearn.preprocessing import MinMaxScaler\n",
        "\n",
        "F = float(input('Modal (F) = '))\n",
        "N = int(input('Masa Hidup Obligasi (N) = '))\n",
        "m = int(input('Frekuensi Pembayaran Kupon (m) = '))\n",
        "j = float(input('Tingkat Suku Bunga per Periode (j) = '))\n",
        "r = float(input('Tingkat Kupon Tiap Periode (r) = '))\n",
        "\n",
        "C = F\n",
        "n = N*m\n",
        "g = r*F/C\n",
        "v = 1/(1+j)\n",
        "\n",
        "def interest(k):\n",
        " return C*g-C*(g-j)*v**(n-k+1)\n",
        "\n",
        "def principal(k):\n",
        " return C*g-interest(k)\n",
        "\n",
        "def balance(k):\n",
        " return C*(g-j)*((1-v**(n-k))/j)+C\n",
        "\n",
        "periode = []\n",
        "kupon = []\n",
        "I_t = []\n",
        "P_t = []\n",
        "B_t = []\n",
        "totalkupon0 = 0\n",
        "for k in range(n+1):\n",
        "  if k == 0:\n",
        "    xkupon = 0\n",
        "    xI_t = 0\n",
        "    xP_t = 0\n",
        "  else:\n",
        "    xkupon = C*g\n",
        "    xI_t = interest(k)\n",
        "    xP_t = principal(k)\n",
        "  xB_t = balance(k)\n",
        "  periode.append(k)\n",
        "  kupon.append(xkupon)\n",
        "  I_t.append(xI_t)\n",
        "  P_t.append(xP_t)\n",
        "  B_t.append(xB_t)\n",
        "  totalkupon = totalkupon0 + xkupon\n",
        "  totalkupon0 = totalkupon\n",
        "amortisasi_bond = {'Periode':periode,'Kupon':kupon,'Bunga yang Dibayarkan':I_t,'Pokok Pinjaman yang Dibayarkan':P_t,'Pokok Pinjaman':B_t}\n",
        "df = pd.DataFrame(amortisasi_bond)\n",
        "print('\\n',df,'\\n')\n",
        "# df.to_excel (r'Tabel Amortisasi Obligasi.xlsx', index = False, header=True)"
      ]
    },
    {
      "cell_type": "code",
      "source": [
        "# VISUALISASI\n",
        "\n",
        "data = df.values\n",
        "scaler = MinMaxScaler(feature_range=(0,1))\n",
        "rescaled_data = scaler.fit_transform(data)\n",
        "rescaled_kupon = rescaled_data[:,1]\n",
        "rescaled_I_t = rescaled_data[:,2]\n",
        "rescaled_P_t = rescaled_data[:,3]\n",
        "rescaled_B_t = rescaled_data[:,4]\n",
        "\n",
        "plt.plot(periode, rescaled_kupon)\n",
        "plt.plot(periode, rescaled_I_t)\n",
        "plt.plot(periode, rescaled_P_t)\n",
        "plt.plot(periode, rescaled_B_t)\n",
        "plt.xlabel('Periode')\n",
        "plt.legend(['Kupon', 'Bunga yang Dibayarkan', 'Pokok Pinjaman yang Dibayarkan', 'Pokok Pinjaman'])\n",
        "plt.tight_layout()\n",
        "plt.show()"
      ],
      "metadata": {
        "colab": {
          "base_uri": "https://localhost:8080/",
          "height": 297
        },
        "id": "_DBJui9-x2H6",
        "outputId": "9efdf5bd-d105-46a6-a96c-ca36b18abda6"
      },
      "execution_count": 12,
      "outputs": [
        {
          "output_type": "display_data",
          "data": {
            "text/plain": [
              "<Figure size 432x288 with 1 Axes>"
            ],
            "image/png": "[encoded data removed]"
          },
          "metadata": {
            "needs_background": "light"
          }
        }
      ]
    },
    {
      "cell_type": "code",
      "source": [
        "# PERHITUNGAN KEUNTUNGAN\n",
        "\n",
        "keuntungan_modal = abs(balance(0) - balance(n))\n",
        "keuntungan_kupon = totalkupon\n",
        "totalhasil_invest = balance(0) + totalkupon\n",
        "keunhasil_invest = totalhasil_invest - C\n",
        "print('Keuntungan Modal = ',keuntungan_modal)\n",
        "print('Keuntungan Kupon = ',keuntungan_kupon)\n",
        "print('Total Hasil Investasi = ',totalhasil_invest)\n",
        "print('Keuntungan Hasil Investasi = ',keunhasil_invest)"
      ],
      "metadata": {
        "colab": {
          "base_uri": "https://localhost:8080/"
        },
        "id": "mM7_7FUlx6HV",
        "outputId": "a0d2e6fe-abba-4614-ebc6-9e08b4f378e5"
      },
      "execution_count": 14,
      "outputs": [
        {
          "output_type": "stream",
          "name": "stdout",
          "text": [
            "Keuntungan Modal =  24999999.999948993\n",
            "Keuntungan Kupon =  2400000000.0\n",
            "Total Hasil Investasi =  2475000000.000051\n",
            "Keuntungan Hasil Investasi =  2375000000.000051\n"
          ]
        }
      ]
    }
  ]
}